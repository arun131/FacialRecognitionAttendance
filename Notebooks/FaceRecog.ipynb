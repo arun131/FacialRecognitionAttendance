{
 "cells": [
  {
   "cell_type": "code",
   "execution_count": 19,
   "id": "c8e89955-8dbb-4ada-a2b6-e08c3c0aabb9",
   "metadata": {},
   "outputs": [],
   "source": [
    "import cv2\n",
    "import numpy as np\n",
    "import face_recognition\n",
    "import glob\n",
    "import pandas as pd\n",
    "import pickle\n",
    "from time import sleep\n",
    "import os\n",
    "from datetime import datetime\n",
    "from IPython.display import clear_output\n"
   ]
  },
  {
   "cell_type": "code",
   "execution_count": 20,
   "id": "45cceed9-fca4-4d9d-b2c5-01eb92555e08",
   "metadata": {},
   "outputs": [
    {
     "data": {
      "text/html": [
       "<div>\n",
       "<style scoped>\n",
       "    .dataframe tbody tr th:only-of-type {\n",
       "        vertical-align: middle;\n",
       "    }\n",
       "\n",
       "    .dataframe tbody tr th {\n",
       "        vertical-align: top;\n",
       "    }\n",
       "\n",
       "    .dataframe thead th {\n",
       "        text-align: right;\n",
       "    }\n",
       "</style>\n",
       "<table border=\"1\" class=\"dataframe\">\n",
       "  <thead>\n",
       "    <tr style=\"text-align: right;\">\n",
       "      <th></th>\n",
       "      <th>First Name</th>\n",
       "      <th>Last Name</th>\n",
       "      <th>Emp_Id</th>\n",
       "      <th>Gender</th>\n",
       "    </tr>\n",
       "  </thead>\n",
       "  <tbody>\n",
       "    <tr>\n",
       "      <th>0</th>\n",
       "      <td>Jasim</td>\n",
       "      <td>Salahuddin</td>\n",
       "      <td>2004</td>\n",
       "      <td>Male</td>\n",
       "    </tr>\n",
       "    <tr>\n",
       "      <th>1</th>\n",
       "      <td>Navdeep</td>\n",
       "      <td>Kaur</td>\n",
       "      <td>2005</td>\n",
       "      <td>Female</td>\n",
       "    </tr>\n",
       "  </tbody>\n",
       "</table>\n",
       "</div>"
      ],
      "text/plain": [
       "  First Name   Last Name  Emp_Id  Gender\n",
       "0      Jasim  Salahuddin    2004    Male\n",
       "1    Navdeep        Kaur    2005  Female"
      ]
     },
     "execution_count": 20,
     "metadata": {},
     "output_type": "execute_result"
    }
   ],
   "source": [
    "# Load face encodings and names\n",
    "encoding_file_name = 'Employee_Database\\\\Face_Encodings.pkl'\n",
    "with open(encoding_file_name, 'rb') as f:\n",
    "    tmp = pickle.load(f)\n",
    "face_names = tmp[0][:]\n",
    "face_encoding_list = tmp[1][:]\n",
    "del tmp\n",
    "\n",
    "# Load Employee Database\n",
    "emp_rec = 'Employee_Database\\\\EmployeeRecords.csv'\n",
    "my_data = pd.read_csv(emp_rec,names= [\"First Name\", \"Last Name\", \"Emp_Id\", \"Gender\"],header = 0)\n",
    "my_data"
   ]
  },
  {
   "cell_type": "code",
   "execution_count": 21,
   "id": "e25a8ec5-e3b8-4940-acf8-a74746527e00",
   "metadata": {},
   "outputs": [
    {
     "data": {
      "text/plain": [
       "(2, 2, 2)"
      ]
     },
     "execution_count": 21,
     "metadata": {},
     "output_type": "execute_result"
    }
   ],
   "source": [
    "len(my_data), len(face_encoding_list), len(face_names)"
   ]
  },
  {
   "cell_type": "code",
   "execution_count": 22,
   "id": "3febfb3a-a7a6-44da-acae-fd129b988d47",
   "metadata": {},
   "outputs": [],
   "source": [
    "def remove_employee_record():\n",
    "    global my_data, face_encoding_list, face_names, encoding_file_name\n",
    "    idd = int(input(\"Enter the employee ID: \"))\n",
    "    record = my_data[my_data[\"Emp_Id\"] == idd]\n",
    "    if record.shape[0] > 0:\n",
    "        print(\"\\nPlease confirm the employee details\")\n",
    "        print(my_data[my_data[\"Emp_Id\"] == idd])\n",
    "        conf_inp = input(\"\\nAre you sure to remove?\\n(Y/N): \")\n",
    "        if conf_inp.lower() == \"y\":\n",
    "            # drop the employee row and save to the database\n",
    "            my_data.drop(record.index.values, inplace = True)\n",
    "            my_data.to_csv(emp_rec,columns = [\"First Name\", \"Last Name\", \"Emp_Id\", \"Gender\"],index = False)\n",
    "            \n",
    "            # find the index of the employee\n",
    "            idx = [i for i, ele in enumerate(face_names) if str(idd) in ele]\n",
    "            face_encoding_list.pop(idx[0])\n",
    "            face_names.pop(idx[0])\n",
    "            # droped and save the pickle file\n",
    "            with open(encoding_file_name, 'wb') as f:\n",
    "                pickle.dump([face_names, face_encoding_list], f)\n",
    "            print(\"\\nSuccessfully Removed Employee Record\")\n",
    "        else:\n",
    "            print(\"\\nNot Removing the Employee Record\")\n",
    "    else:\n",
    "        print(\"\\nEmployee Record Not Found\")\n",
    "# remove_employee_record()"
   ]
  },
  {
   "cell_type": "code",
   "execution_count": 23,
   "id": "55a56194-1bc8-44a9-9a2b-ca64985c5a6a",
   "metadata": {},
   "outputs": [
    {
     "data": {
      "text/plain": [
       "(2, 2, 2)"
      ]
     },
     "execution_count": 23,
     "metadata": {},
     "output_type": "execute_result"
    }
   ],
   "source": [
    "len(my_data), len(face_encoding_list), len(face_names)"
   ]
  },
  {
   "cell_type": "code",
   "execution_count": 24,
   "id": "120a0941-4014-4705-8e3c-2b1e82f0c364",
   "metadata": {},
   "outputs": [],
   "source": [
    "# Path of the main images database\n",
    "path = 'Image_Database'\n",
    "\n",
    "#acceptable image formats\n",
    "formats = set([\"jpeg\", \"jpg\", \"png\", \"tif\", \"tiff\", \"gif\"])"
   ]
  },
  {
   "cell_type": "code",
   "execution_count": 25,
   "id": "2d5abfcd-8c0e-40e6-9a16-ec185f078b65",
   "metadata": {},
   "outputs": [],
   "source": [
    "def append_new_employee(encoded, emp, img_name):\n",
    "    global my_data, emp_rec\n",
    "    my_data.loc[len(my_data)] = ([emp[\"First\"].capitalize(),\n",
    "                                      emp[\"Last\"].capitalize(),\n",
    "                                      emp[\"EID\"],\n",
    "                                      emp[\"Gender\"].capitalize()])\n",
    "    my_data.to_csv(emp_rec,columns = [\"First Name\", \"Last Name\", \"Emp_Id\", \"Gender\"],index = False)\n",
    "    \n",
    "    dump_new_pickle(encoded, img_name)"
   ]
  },
  {
   "cell_type": "code",
   "execution_count": 26,
   "id": "dfd2008a-ae66-403c-8f20-6df82ade9c51",
   "metadata": {},
   "outputs": [],
   "source": [
    "def dump_new_pickle(new_encode, classname):\n",
    "    global face_encoding_list, face_names, encoding_file_name\n",
    "    face_encoding_list.append(new_encode)\n",
    "    face_names.append(classname)\n",
    "    with open(encoding_file_name, 'wb') as f:\n",
    "        pickle.dump([face_names, face_encoding_list], f)\n",
    "    "
   ]
  },
  {
   "cell_type": "code",
   "execution_count": 27,
   "id": "8baae352-3b8e-4d54-86c7-35b8ad736624",
   "metadata": {},
   "outputs": [],
   "source": [
    "def findEncoding(img):\n",
    "    encodeList = []\n",
    "    img = cv2.cvtColor(img, cv2.COLOR_BGR2RGB)\n",
    "    encode = face_recognition.face_encodings(img)\n",
    "    if len(encode) == 0:\n",
    "        print(\"Face not clear.\\nPlease capture a clear image.\")\n",
    "        return\n",
    "    else:\n",
    "        encodeList.append(encode[0])\n",
    "    return encodeList[0]"
   ]
  },
  {
   "cell_type": "code",
   "execution_count": 28,
   "id": "30fd863f-4522-43d9-ba34-0cf5708e1fc0",
   "metadata": {},
   "outputs": [],
   "source": [
    "def grabnewemployee():\n",
    "    global path, my_data\n",
    "    # Get the Employee name details from user\n",
    "    while True:\n",
    "        print(\"Fill the employee details\")\n",
    "        emp_name = {}\n",
    "        emp_name[\"First\"] = input(\"First Name: \")\n",
    "        emp_name[\"Last\"] = input(\"Last Name: \")\n",
    "        # check for correct emp_id value\n",
    "        while True:\n",
    "            try:\n",
    "                emp_name[\"EID\"] = int(input(\"Emp_Id: \"))\n",
    "                break\n",
    "            except ValueError:\n",
    "                print(\"Enter a correct number:\")\n",
    "                continue\n",
    "        # Raise Error till we get a unique emp id\n",
    "        if emp_name[\"EID\"] in set(my_data[\"Emp_Id\"].values):           \n",
    "            print(\"Employee Record Already Exists \\nChoose a new Employee Id\")\n",
    "            continue\n",
    "        else:\n",
    "            emp_name[\"Gender\"] = input(\"Gender: \")\n",
    "            break\n",
    "    #file name and face name\n",
    "    img_name = emp_name[\"First\"].lower() + \"_\" + emp_name[\"Last\"].lower() + \"_\" + str(emp_name[\"EID\"])\n",
    "    \n",
    "    # activate the camera\n",
    "    key = cv2.waitKey(1) # wait indefinetely for the key\n",
    "    webcam = cv2.VideoCapture(0, cv2.CAP_DSHOW) # load camera\n",
    "    sleep(2)\n",
    "    while True:\n",
    "\n",
    "        try:\n",
    "            check, frame = webcam.read()\n",
    "            cv2.imshow(\"Capturing\", frame)\n",
    "            key = cv2.waitKey(1)\n",
    "            if key == ord('s'):\n",
    "                encoded = findEncoding(frame)\n",
    "                if len(encoded) > 0:\n",
    "                    cv2.imwrite(path + f'\\\\{img_name}.jpg', frame)\n",
    "                    webcam.release()\n",
    "                    print(\"Saving image...\")\n",
    "                    append_new_employee(encoded, emp_name, img_name)\n",
    "                    sleep(1.5)\n",
    "                    break\n",
    "                else:\n",
    "                    continue\n",
    "\n",
    "            elif key == ord('e'):\n",
    "                webcam.release()\n",
    "                cv2.destroyAllWindows()\n",
    "                break\n",
    "\n",
    "        except KeyboardInterrupt:\n",
    "            print(\"Turning off camera.\")\n",
    "            webcam.release()\n",
    "            print(\"Camera off.\")\n",
    "            print(\"Program ended.\")\n",
    "            cv2.destroyAllWindows()\n",
    "            break\n"
   ]
  },
  {
   "cell_type": "code",
   "execution_count": 38,
   "id": "49ae7412-494f-4ff1-b212-2430de1db8ac",
   "metadata": {},
   "outputs": [
    {
     "name": "stdout",
     "output_type": "stream",
     "text": [
      "Fill the employee details\n"
     ]
    },
    {
     "name": "stdin",
     "output_type": "stream",
     "text": [
      "First Name:  Shahzeb\n",
      "Last Name:  Farruk\n",
      "Emp_Id:  2065\n",
      "Gender:  M\n"
     ]
    },
    {
     "name": "stdout",
     "output_type": "stream",
     "text": [
      "Saving image...\n"
     ]
    }
   ],
   "source": [
    "grabnewemployee()"
   ]
  },
  {
   "cell_type": "code",
   "execution_count": 30,
   "id": "894bcd5b-b5b5-4606-bc07-e28f628ebd20",
   "metadata": {},
   "outputs": [
    {
     "data": {
      "text/plain": [
       "(3, 3, 3)"
      ]
     },
     "execution_count": 30,
     "metadata": {},
     "output_type": "execute_result"
    }
   ],
   "source": [
    "len(my_data), len(face_encoding_list), len(face_names)"
   ]
  },
  {
   "cell_type": "code",
   "execution_count": 31,
   "id": "7b61b973-4331-4247-ae88-4fe039e73fa8",
   "metadata": {},
   "outputs": [],
   "source": [
    "# # Run for the first time\n",
    "\n",
    "# # for savnig the face encodings for the first time\n",
    "# def saveEncodingList(classNames, images, encoding_file_name):\n",
    "#     encodeList = []\n",
    "#     for img in images:\n",
    "#         encode = findEncoding(img)\n",
    "#         encodeList.append(encode)\n",
    "#     with open(encoding_file_name, 'wb') as f:\n",
    "#         pickle.dump([classNames, encodeList], f)\n",
    "#     #return encodeList\n",
    "    \n",
    "# # get all the images in the database for the first time\n",
    "# myList = glob.glob(path + \"\\*\")\n",
    "# # select only the acceptable image formats \n",
    "# toRem = []\n",
    "# for i, pic_path in enumerate(myList):\n",
    "#     if pic_path.lower().split(\".\")[1] not in formats:\n",
    "#         toRem.append(pic_path)\n",
    "# for ele in toRem:\n",
    "#     myList.remove(ele)\n",
    "\n",
    "# # Read the list of images\n",
    "# images = []\n",
    "# classNames = []\n",
    "# for cl in myList:\n",
    "#     curImg = cv2.imread(f'{cl}')\n",
    "#     images.append(curImg)\n",
    "#     classNames.append(cl.split(\"\\\\\")[1].split(\".\")[0])\n",
    "    \n",
    "# saveEncodingList(classNames, images, encoding_file_name)"
   ]
  },
  {
   "cell_type": "code",
   "execution_count": 32,
   "id": "e8525a48-90f8-41be-a50b-7c07f0c5b271",
   "metadata": {},
   "outputs": [],
   "source": [
    "def load_attendance():\n",
    "    \"\"\"\n",
    "    This function returs the current months attendance database file and the file name in the system\n",
    "    If file doesnt exist, it will create a new empty file\n",
    "    \"\"\"\n",
    "    \n",
    "    # generate the correct file name\n",
    "    name = datetime.now().date().strftime(\"%b-%Y\") + \"-Attendance.csv\"\n",
    "    # get the available file names\n",
    "    available = glob.glob(\"Attendance_Database\\*\")\n",
    "    available = [ele.split(\"\\\\\")[1] for ele in available]\n",
    "    # check if the current month's file exists\n",
    "    if name not in available:\n",
    "        # if dosent exist, generate an empty file\n",
    "        df = pd.DataFrame(columns=[\"Emp_Id\",\"First Name\",\"Last Name\",\"Date\", \"Time\"])\n",
    "        return df, \"Attendance_Database\\\\\" + name\n",
    "    if name in available:\n",
    "        # if exists, load the file \n",
    "        name = \"Attendance_Database\\\\\" + name\n",
    "        df = pd.read_csv(name, header = 0, names = [\"Emp_Id\",\"First Name\",\"Last Name\",\"Date\", \"Time\"],\n",
    "                    parse_dates=[3,4],)\n",
    "        return df, name\n",
    "    \n",
    "    "
   ]
  },
  {
   "cell_type": "code",
   "execution_count": 33,
   "id": "f6c290e7-7ea8-4f76-a63a-17c0b07c794d",
   "metadata": {},
   "outputs": [],
   "source": [
    "def save_attendance(values):\n",
    "    \"\"\"\n",
    "    This function appends the employee record to the current month's data base file in Attendace Database folder\n",
    "    \"\"\"\n",
    "    # load the global attendance df and file name\n",
    "    global att_file, att_file_name\n",
    "    # add the values to the end of the dataframe\n",
    "    att_file.loc[len(att_file)] = values\n",
    "    # save the csv file\n",
    "    att_file.to_csv(att_file_name, columns=[\"Emp_Id\",\"First Name\",\"Last Name\",\"Date\", \"Time\"],\n",
    "                     index = False)"
   ]
  },
  {
   "cell_type": "code",
   "execution_count": 34,
   "id": "4e6d38c3-6577-446b-8beb-cb48720cf669",
   "metadata": {},
   "outputs": [],
   "source": [
    "def markAttendance(name):\n",
    "    \"\"\"\n",
    "    This function checks if the attendance is already recorded for the day and enters if not recorded\n",
    "    \"\"\"\n",
    "    # load the attendance file and its file name\n",
    "    global att_file, att_file_name\n",
    "    # get the employee details\n",
    "    emp_details = [ele.capitalize() for ele in name.split(\"_\")]\n",
    "    # calculate the current time and date \n",
    "    now = datetime.now()\n",
    "    timeString = now.strftime('%H:%M:%S')\n",
    "    dtString = now.strftime(\"%b/%d/%Y\")\n",
    "    # filter out only today's attendance entrance\n",
    "    todays_attendance = att_file[att_file[\"Date\"] == dtString]\n",
    "    # check if already entered\n",
    "    if sum(todays_attendance[\"Emp_Id\"] == int(emp_details[2])) == 0:\n",
    "        values_to_add = [int(emp_details[2]),\n",
    "                        emp_details[0],\n",
    "                        emp_details[1],\n",
    "                        dtString,\n",
    "                        timeString]\n",
    "        save_attendance(values_to_add)\n",
    "        print(f\"Attendance given to {name}\")\n",
    "    else:\n",
    "        print(f\"{name} has already entered today\")"
   ]
  },
  {
   "cell_type": "code",
   "execution_count": 35,
   "id": "2614c9ef-8d06-4c9a-91b0-ac69d371948f",
   "metadata": {},
   "outputs": [],
   "source": [
    "att_file, att_file_name = load_attendance()\n"
   ]
  },
  {
   "cell_type": "code",
   "execution_count": 39,
   "id": "8942f5b4-7e98-48a8-a4b2-600161acb9df",
   "metadata": {},
   "outputs": [
    {
     "name": "stdout",
     "output_type": "stream",
     "text": [
      "ARUN_RAJ_2017 has already entered today\n"
     ]
    }
   ],
   "source": [
    "key = cv2.waitKey(1) # wait indefinetely for any key\n",
    "cap = cv2.VideoCapture(0, cv2.CAP_DSHOW) # load camera\n",
    "counter = 0\n",
    "found_emp = []\n",
    "while True:\n",
    "    success, img = cap.read()\n",
    "    # cv2.imshow(\"Recording Attendance\", img)\n",
    "    imgS = cv2.resize(img, (0, 0), None, 0.25, 0.25)\n",
    "    imgS = cv2.cvtColor(imgS, cv2.COLOR_BGR2RGB)\n",
    "    \n",
    "    #imgS = cv2.cvtColor(img, cv2.COLOR_BGR2RGB)\n",
    "    facesCurFrame = face_recognition.face_locations(imgS)\n",
    "    encodesCurFrame = face_recognition.face_encodings(imgS, facesCurFrame)\n",
    "\n",
    "    for encodeFace, faceLoc in zip(encodesCurFrame, facesCurFrame):\n",
    "        matches = face_recognition.compare_faces(face_encoding_list, encodeFace)\n",
    "        faceDis = face_recognition.face_distance(face_encoding_list, encodeFace)\n",
    "        matchIndex = np.argmin(faceDis)\n",
    "\n",
    "        if matches[matchIndex]:\n",
    "            name = face_names[matchIndex].upper()\n",
    "            y1, x2, y2, x1 = faceLoc\n",
    "            y1, x2, y2, x1 = y1 * 4, x2 * 4, y2 * 4, x1 * 4\n",
    "            cv2.rectangle(img, (x1, y1), (x2, y2), (0, 255, 0), 2)\n",
    "            cv2.rectangle(img, (x1, y2 - 35), (x2, y2), (0, 255, 0), cv2.FILLED)\n",
    "            cv2.putText(img, name, (x1 + 6, y2 - 6), cv2.FONT_HERSHEY_COMPLEX, 1, (255, 255, 255), 2)\n",
    "            counter += 1\n",
    "            found_emp.append(name)\n",
    "            if counter == 3 and len(set(found_emp)) == 1:\n",
    "                markAttendance(name)\n",
    "#                markAttendance(name, imgS)\n",
    "                counter = 0\n",
    "                found_emp = []\n",
    "                \n",
    "            elif counter > 3:\n",
    "                counter = 0\n",
    "                found_emp = []\n",
    "\n",
    "    #os.system('clear')\n",
    "    clear_output(wait=True)\n",
    "    cv2.imshow('Recording Attendance', img)\n",
    "    key = cv2.waitKey(1)\n",
    "    if key == ord('e'):\n",
    "        cap.release()\n",
    "        cv2.destroyAllWindows()\n",
    "        break\n",
    "    "
   ]
  },
  {
   "cell_type": "code",
   "execution_count": null,
   "id": "c26aff14-cf1b-4c8f-84c1-b2e47cf6ec39",
   "metadata": {},
   "outputs": [],
   "source": []
  }
 ],
 "metadata": {
  "kernelspec": {
   "display_name": "Python 3 (ipykernel)",
   "language": "python",
   "name": "python3"
  },
  "language_info": {
   "codemirror_mode": {
    "name": "ipython",
    "version": 3
   },
   "file_extension": ".py",
   "mimetype": "text/x-python",
   "name": "python",
   "nbconvert_exporter": "python",
   "pygments_lexer": "ipython3",
   "version": "3.8.12"
  }
 },
 "nbformat": 4,
 "nbformat_minor": 5
}
